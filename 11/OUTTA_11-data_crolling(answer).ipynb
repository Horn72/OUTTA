{
 "cells": [
  {
   "cell_type": "markdown",
   "id": "5187c4e1",
   "metadata": {
    "id": "5187c4e1"
   },
   "source": [
    "# 라이브러리 설치"
   ]
  },
  {
   "cell_type": "code",
   "execution_count": 4,
   "id": "c2b7084e",
   "metadata": {
    "colab": {
     "base_uri": "https://localhost:8080/"
    },
    "executionInfo": {
     "elapsed": 9170,
     "status": "ok",
     "timestamp": 1690211191159,
     "user": {
      "displayName": "이민준",
      "userId": "04669644720095362433"
     },
     "user_tz": -540
    },
    "id": "c2b7084e",
    "outputId": "41831312-d92b-4acb-d01d-b72cd9f7df68"
   },
   "outputs": [
    {
     "name": "stdout",
     "output_type": "stream",
     "text": [
      "Defaulting to user installation because normal site-packages is not writeable\n",
      "Requirement already satisfied: selenium in c:\\users\\user\\appdata\\roaming\\python\\python310\\site-packages (4.10.0)\n",
      "Requirement already satisfied: trio~=0.17 in c:\\users\\user\\appdata\\roaming\\python\\python310\\site-packages (from selenium) (0.22.2)\n",
      "Requirement already satisfied: urllib3[socks]<3,>=1.26 in c:\\anaconda3\\lib\\site-packages (from selenium) (1.26.14)\n",
      "Requirement already satisfied: trio-websocket~=0.9 in c:\\users\\user\\appdata\\roaming\\python\\python310\\site-packages (from selenium) (0.10.3)\n",
      "Requirement already satisfied: certifi>=2021.10.8 in c:\\anaconda3\\lib\\site-packages (from selenium) (2022.12.7)\n",
      "Requirement already satisfied: sniffio in c:\\anaconda3\\lib\\site-packages (from trio~=0.17->selenium) (1.2.0)\n",
      "Requirement already satisfied: sortedcontainers in c:\\anaconda3\\lib\\site-packages (from trio~=0.17->selenium) (2.4.0)\n",
      "Requirement already satisfied: attrs>=20.1.0 in c:\\anaconda3\\lib\\site-packages (from trio~=0.17->selenium) (22.1.0)\n",
      "Requirement already satisfied: idna in c:\\anaconda3\\lib\\site-packages (from trio~=0.17->selenium) (3.4)\n",
      "Requirement already satisfied: cffi>=1.14 in c:\\anaconda3\\lib\\site-packages (from trio~=0.17->selenium) (1.15.1)\n",
      "Requirement already satisfied: outcome in c:\\users\\user\\appdata\\roaming\\python\\python310\\site-packages (from trio~=0.17->selenium) (1.2.0)\n",
      "Requirement already satisfied: exceptiongroup>=1.0.0rc9 in c:\\users\\user\\appdata\\roaming\\python\\python310\\site-packages (from trio~=0.17->selenium) (1.1.2)\n",
      "Requirement already satisfied: wsproto>=0.14 in c:\\users\\user\\appdata\\roaming\\python\\python310\\site-packages (from trio-websocket~=0.9->selenium) (1.2.0)\n",
      "Requirement already satisfied: PySocks!=1.5.7,<2.0,>=1.5.6 in c:\\anaconda3\\lib\\site-packages (from urllib3[socks]<3,>=1.26->selenium) (1.7.1)\n",
      "Requirement already satisfied: pycparser in c:\\anaconda3\\lib\\site-packages (from cffi>=1.14->trio~=0.17->selenium) (2.21)\n",
      "Requirement already satisfied: h11<1,>=0.9.0 in c:\\users\\user\\appdata\\roaming\\python\\python310\\site-packages (from wsproto>=0.14->trio-websocket~=0.9->selenium) (0.14.0)\n"
     ]
    }
   ],
   "source": [
    "!pip install selenium"
   ]
  },
  {
   "cell_type": "markdown",
   "id": "42526e7d",
   "metadata": {
    "id": "42526e7d"
   },
   "source": [
    "# Selenium 연습"
   ]
  },
  {
   "cell_type": "markdown",
   "id": "b363551b",
   "metadata": {
    "id": "b363551b"
   },
   "source": [
    "## By.Name 구문"
   ]
  },
  {
   "cell_type": "code",
   "execution_count": 8,
   "id": "aff26984",
   "metadata": {
    "colab": {
     "base_uri": "https://localhost:8080/",
     "height": 731
    },
    "executionInfo": {
     "elapsed": 495,
     "status": "error",
     "timestamp": 1690211711395,
     "user": {
      "displayName": "이민준",
      "userId": "04669644720095362433"
     },
     "user_tz": -540
    },
    "id": "aff26984",
    "outputId": "b1e3f2bb-a93b-49c6-9337-99d9787a9007"
   },
   "outputs": [],
   "source": [
    "from selenium import webdriver\n",
    "from selenium.webdriver.common.by import By\n",
    "from selenium.webdriver.common.keys import Keys\n",
    "from selenium.webdriver.chrome.service import Service\n",
    "\n",
    "# ChromeDriver의 경로를 지정하고, WebDriver 인스턴스를 생성합니다.\n",
    "driver = webdriver.Chrome()\n",
    "\n",
    "# 지마켓의 메인 페이지를 엽니다.\n",
    "driver.get('https://www.gmarket.co.kr')\n",
    "\n",
    "# 검색어를 입력할 수 있는 input 요소를 찾습니다.\n",
    "search_box = driver.find_element(By.NAME, 'keyword')\n",
    "\n",
    "# 검색어를 입력하고, Enter 키를 눌러 검색을 실행합니다.\n",
    "search_box.send_keys('에어컨')\n",
    "search_box.send_keys(Keys.RETURN)\n",
    "\n",
    "# 작업이 끝나면 WebDriver를 종료하여 브라우저 창을 닫습니다.\n",
    "driver.quit()"
   ]
  },
  {
   "cell_type": "markdown",
   "id": "f7e91211",
   "metadata": {
    "id": "f7e91211"
   },
   "source": [
    "## By.CSS_SELECTOR 구문"
   ]
  },
  {
   "cell_type": "code",
   "execution_count": 11,
   "id": "d0ba22cd",
   "metadata": {
    "id": "d0ba22cd"
   },
   "outputs": [],
   "source": [
    "from selenium import webdriver\n",
    "from selenium.webdriver.common.by import By\n",
    "from selenium.webdriver.common.keys import Keys\n",
    "from selenium.webdriver.chrome.service import Service\n",
    "\n",
    "title_list = list()\n",
    "\n",
    "# ChromeDriver의 경로를 지정하고, WebDriver 인스턴스를 생성합니다.\n",
    "driver = webdriver.Chrome()\n",
    "\n",
    "# 지마켓의 베스트 페이지를 엽니다.\n",
    "driver.get('https://www.gmarket.co.kr/n/best')\n",
    "\n",
    "# 상품명을 입력 받아 item_list 변수에 저장합니다.\n",
    "item_list = driver.find_elements(By.CSS_SELECTOR, 'a.itemname')\n",
    "\n",
    "for item in item_list:\n",
    "    title_list.append(item.text)\n",
    "\n",
    "driver.quit()"
   ]
  },
  {
   "cell_type": "code",
   "execution_count": 10,
   "id": "4704868d",
   "metadata": {
    "id": "4704868d",
    "outputId": "8232119e-003d-4a52-e41f-056ad3229229"
   },
   "outputs": [
    {
     "name": "stdout",
     "output_type": "stream",
     "text": [
      "['[원할머니]원할머니 명품육개장 600g 10팩', '연세 뼈를 생각한 고칼슘두유 검은콩 48팩 + 호두아몬드 48팩', '[이푸른]이쌀이다 구수한 향이 가득한 옥향미 10kg/특등급', '다향 훈제오리 13팩 1등급', '[델포유]델포유 오븐에 구운 십센치 파운드 30개 5가지맛', '[삼립]삼립디저트 누네띠네 2.5kgx1개', '[삼진어묵]삼진어묵 옛날모듬어묵 1Kg x 3개', '[에드워드권]국내산 소갈비에드워드권 뼈없는갈비탕 10팩(총 7kg)', '[동아오츠카]나랑드사이다 제로 345ml 24캔(뚱캔)', '[해동찬가]7/24(월) 단하루 20%할인) 한돈대패삼겹살 300gX4팩+한돈대패목살 300gX3팩 /총 7팩(2.1kg)', '[웅진]빅토리아 청귤 500ml 40개', '궁중비법 포기김치 10kg', '[라엘]라엘 내추럴 순면 생리대 5팩', '(15%쿠폰적용가 8670) 냄새줄인 락스 2100ml x 6개 / 최신제조 / 욕실 및 화장실 살균 소독제', '[연세우유]연세우유 전용목장우유 180ml (48팩)YS257', '프리미엄 1등급 한우 등심 200g x 2팩 /총 400g /17560원(쿠폰가)/냉장 한우 암소', '무중력 깔창 1+1+1+1 신발 쿠션 충격흡수 완화 군인 등산 구두 푹신한 키높이', '맥심 카누 미니 마일드 240T(120T+120T)', '[동아오츠카]동아오츠카 T 라인바싸 탄산수/탄산음료 500ml 2박스 ( 20입+20입 )', '[메가박스](유니버스클럽 전용) 메가박스 일반예매권 2D-주중/주말', '[목우촌]목우촌주부9단 살코기햄 1kg x 2개', '[덴티스테]덴티스테 플러스화이트 160gx3개 + 여행용20g 1개 기본증정 (7/24단하루 치실1개 추가증정) 쿠폰가 23890원', '[어나더디](15%쿠폰가 12670원)(4개세트) 심리스 브라탑 4color 노라인 노와이어 스포츠브라 스판소재', '[서울우유]서울우유 멸균우유 흰우유 200mlx48개', '[목우촌]목우촌 주부9단 비엔나소시지 450g x 3개', '[할리스]할리스 1L 아메리카노 x4병', '[고래사어묵]고래사 고래사어묵 프리미엄어묵세트 (15종 /25개)', '[엘렌실라](7/24 단하루)(1+1+정품증정) 슈퍼 달팽이크림 50g 1+1 (+프렌치콜라겐 대용량 에멀전 750ml 증정)', '나비골 국내산 여름별미 열무김치 2kg 2개구매시비빔면증정(주문일자7월24일 기준으로 증정)', '[천일식품]사누끼 포차 우동 230g10봉 (개별포장) + 소스 10봉 + 후레이크 10개', '[더푸룸]섬유유연제 라벤더향 2.5L 4개 (특가행사)', '이쌀이다 촉촉하고 찰진 안동밥상 백진주 10kg', '[코디](15%+클럽12% 쿠폰적용가 25700) 블루 3겹 데코 화장지 27m 30롤 3팩 휴지', '[이푸른]고대곡물 카무트 호라산밀 정품 2KG(500gX4봉)', '(놀이대전) 캐리비안베이 골드1 골드2 종일권(이용기간 상이)', '(노티드) 1만원권', '추추추어탕 500g 5팩 국내산 미꾸라지만 사용', '[디스커버리](롯데백화점)디스커버리 공용 마운틴 LT DXSH4112N', '착한낙지 매콤~칼칼 착한낙지 135g x 6팩+비법소스 6팩', '[하비비](15%쿠폰) 청개구리 자동 변기 클리너 세정제 6개 (12개월분)', '[대상 웰라이프][최종혜택가22,760원] 마이밀 뉴프로틴 오리지널 24입 +증정', '이맛쌀 20kg', '[BBQ]BBQ 비비큐치킨 공식몰 / 자메이카 통다리 바베큐 x 10팩 / 오늘만 시즈닝 증정', '[베베숲]NEW 베베숲 프라임 70매 캡 20팩', '[깨끗한나라]깨끗한나라 (특가) New 벚꽃 프리미엄 화장지 27미터 30롤 3팩', '[헬로]헬로 순수 3겹 30m 30롤 3팩 천연펄프 화장지 초특가행사', '[스카이패션](1+1) 남녀공용 시원한 린넨라이크 쿨 와이드 밴딩팬츠', '[깨끗한나라]깨끗한나라 순수시그니처 화장지 브라운 30m 30롤 2팩', '제로스킨 스키니매트 (1+1)', '[오뚜기]오뚜기 맛있는 밥 30입(210gx10)x 3개 / 오뚜기 흰밥', '[연세우유]속편한 락토프리 멸균우유 오리지널 190ml 48팩/ 두유', '[예림당]쿠폰특가 예림당 why 와이교과서 중심 만화 1/2/3/4 학년 옵션선택구매', '[벨롭]밸롭 아쿠아슈즈/워터슈즈/래쉬가드/수영복/비치웨어/여성/남성/아동/키즈 모음전', '[동아오츠카]나랑드사이다 350ML 20입 1박스(플레인파인애플그린애플)', '[도루코](최종혜택가 23800원) 페이스6 면도기획세트 2호(면도기+날 총13입+폼) + 6스타일 날2입 증정 / 6중날', '[외할머니밥상]스지 많고 뼈없는 업그레이드 외할머니 도가니탕 500gx4팩 / 2셋트 구매시마다 하나더', '[웅진]빅토리아 청귤+파인애플 500ml 20+20개', '[라엘]라엘 유기농 순면커버 중/소/대 생리대 5팩', '[깨끗한나라](20% 쿠폰적용가 11840) 깨끗한나라 키친타올 100매 10팩 (톡톡 뽑아쓰는)', '[예가정성]특등급 농협 예산 삼광미 10kg2포', '[풀무원]G풀무원 토이쿠키 3+1 브레드이발소/킹덤 3개 구매시 1개 더', '[좋은느낌]좋은느낌 입는 오버나이트(루피에디션) 중/대형 4PX8팩+증정', '[요기요](요기요) 1만원권', '[써브웨이](써브웨이) 1만원권', '[올반키친]올반 찰핫도그15봉+크런치핫도그15봉(신세계푸드 중복쿠폰 할인)', '[구글플레이]기프트코드 10만원 / 구글 기프트카드', '[오롯담]오롯담 나주곰탕 700g 12팩', '[웅진]자연은 90일 토마토 주스 340ml x 24페트', '[베지밀]베지밀 달콤한 베지밀B 검은콩 두유 190ml x 96팩', '프리미엄 1등급 한우 채끝 200g x 2팩 총 400g /20080원(쿠폰가)/ 냉장 한우 암소', '[어나더디](15%쿠폰가 11820원)(1+1) 더 아이 주니어 하이틴 심리스 브라탑 일체형 노와이어', '[코카콜라]코카콜라 업소용 500ml 24입', '[어나더디](15%쿠폰가 13180원)(4개세트) 스트랩 심리스 브라탑 4color 노와이어 스포츠브라 스판소재', '[브라운(물티슈)]브라운 아기물티슈 네이처 마일드 70매 캡형 10+10팩', '[삼성전자]새로운 갤럭시폴더블 사전알림 EVENT/ 알림신청 /100원딜(구매시자동응모)', '[롯데제과]아이스브레이커스 듀오체리 8개 (반값특가)', '[훈훈]생새우살 1kg (손질새우 알새우 볶음용새우) 소 190-220미', '[롯데칠성]펩시콜라 제로 210ml x 60캔 (30캔 2박스)', '[햇반]햇반 210g x24입', '(UNSEEN SET) SHOWNU X HYUNGWON THE 1ST MINI ALBUM THE UNSEEN', '(할인특가) 키즈엠 - 0~3세 그림책 낱권 골라담기 (전 25종) : 옵션선택', '[부즈펌](라이카미) 부즈펌 진짜 진짜 재밌는 그림책 골라 담기 - 3권 이상 무료배송', '[살림백서](15%쿠폰적용가 12920) 살림백서 뿌리는 곰팡이제거제 400ml 4개 욕실 베란다', '[동원에프앤비]통그릴 비엔나 (소시지) 300g x 6봉', '강부자 역대최저가/SK단독 부자 뼈없는 갈비탕 800gx10팩', '[피코크]피코크 떡갈비 450gx6팩 (신세계푸드 중복 쿠폰 할인)', '[구글플레이]기프트코드 5만원 / 구글 기프트카드', '[아이러브베베]아이러브베베아기물티슈 핑크100매캡형X20팩', '[농심]안성탕면 125g 5입X8개(총40개)', '(VER SET / JEWEL SET) SHOWNU X HYUNGWON THE 1ST MINI ALBUM THE UNSEEN', '[HC해피콜]NEW 컴포트 다이아몬드 후라이팬 2종세트 (28팬+28웍) + 스타벅스 기프티콘 증정', '(행사상품)송탄농협_밥맛좋은경기추청미_10KG 포', '[커클랜드]코스트코 커클랜드 프리미엄 화장지 3겹 30롤 2개 롤휴지 두루마리', '(이마트USA) 항공직송 워싱턴산 생체리 1.8kg', '[일동후디스]하이뮨 마시는 프로틴 밸런스(125mL 24입)', '[힙](HiPP) [HiPP] 힙 콤비오틱 유기농 분유 1단계 800g X 2캔', '[와우컵][와우컵] 유아컵 베이비 트라이탄 2개SET', '[어스본코리아]어스본 태엽북 7종 골라담기', '[디스커버리](롯데백화점)15.택가 69000원공용 페스티벌 백면반팔티셔츠 DXRS5W023', '[리르]리얼 펜타투 아이라이너 1+1+1 총3개', '[롯데칠성]핫식스 오리지널 250 ml x 30캔/에너지드링크', '[동원에프앤비]리챔 오리지널 200g 10캔', '[베베앙(물티슈)]베베앙 아기물티슈 시그니처 대용량 100매 캡형 10팩', '[롯데제과]롯데제과 초코빼빼로10갑+아몬드빼빼로10갑+누드빼빼로10갑', '영광농협 태청마루 청결고춧가루 500g 4EA (총 2kg)', '[동원샘물]동원샘물 2L 24병 /생수전문배송', '[동원에프앤비]라이트스탠다드 참치 85g x 14캔', '[물고기삼촌]양꼬치 양깍두기 양고기 1kg + 쯔란1봉', '[스파클]스파클생수 2L 30병 (도착보장/무라벨생수)', '[오뚜기]진라면 매운맛 1박스 40입 봉지라면', '[스파클]스파클생수 500ml 100병 (도착보장/무라벨생수)', '[비에프엘아웃도어][버팔로] 1+1 버팔로 프리미엄 블랙라벨 구명조끼', '[구글플레이]기프트코드 3만원 / 구글 기프트카드', '토니모리 수분앰플 7700원+썸머 COOL세일 UPTO 79%', '[임금님표이천]임금님표 이천쌀 알찬미 20kg(10kg2포)', '[무궁화]브라이트 초고농축 캡슐세제 파우치형 4개 (120개입) + 핸드워시 용기 1개 증정', '[삼립]삼립오븐에 구운도넛 40gx50개', '[풀무원]G풀무원 피자 4종 5판 골라담기 (노엣지/시카고/크로엣지/골드크러스트)', '[아토세이프]최종혜택가 14520원 아토세이프 귀찮아 습기제거제 520ml 24개입/제습제/장마철필수품', '[맥심](행사상품)N 동서식품맥심모카골드믹스230T 2760G', '[크록스]크록스 남녀공용 바야밴드 클로그_205089-066 (블랙/화이트)', '[모나코올리브]먼지제거 물기제거 빗자루 리프 몬스터비 1+1', '[어나더디](15%쿠폰가 13180원)(10개세트) 심리스 팬티 6color 여성용 노라인 무봉제', '[남가네설악추어탕]남가네 설악 추어탕 450g12팩', '1+1+1+1 남여 린넨 소음방지 실내화', '[네파](롯데백화점)남여 여름 베이퍼 액티브 아이스 밴딩 등산팬츠 7I31623 7I41623', '[농협](행사상품)믿고먹는안심농협쌀20KG 포', '[KFC](KFC) 중복기념파티팩', '[나이키]나이키 NSW 반팔티셔츠 푸츄라 아이콘 스우시 AR5005 AR5004 택1', '[동아오츠카]나랑드 사이다 제로 1.25L 12입(1박스)', '[동아오츠카]포카리스웨트 340ml x 20PET', '[웅진]빅토리아 청귤+청포도 500ml 20+20개', '[웅진]빅토리아 청귤+플레인 500ml 20+20개', '[Gfresh]노르웨이 고등어 140-160g x 10팩', '[뉴트리]에버콜라겐 타임비오틴 핏 50일분 / 유통기한 24년 1월 27일', '10%쿠폰 (6color) 여름바지 트레이닝바지 10부슬림핏 추리닝바지 썸머포켓집업 6종택1', '[구글플레이]기프트코드 1만원 / 구글 기프트카드', '팽현숙 옛날 토종순대국 8인분+육수1팩더', '[서울우유]멸균우유 1000ml x 10입 (1박스)', '[롯데햄]의성마늘 로스팜 340g 10개', '기장물산 명품 기장미역 160g+160g', '[삼성전자]스마트모니터 M7 S43BM701 43인치 4K UHD IPTV', '[목우촌]목우촌 프라임 한입 돈까스 500g x4봉', '[종근당건강]종근당건강 락토핏 생유산균 코어맥스 2g x 60포 x 6통', '[풀무원]G풀무원 직화 짜장소스 (1인분) (180g)x20', '[펩시]펩시콜라 제로슈거 라임 355ml 24캔 캔음료', '[코카콜라](본사직영) 코카콜라 제로 355ml 24입', '[페넬로페]페넬로페 NEW 씬씬씬 아이스 썸머 /미라클 올데이 외 팬티 밴드 기저귀 모음', '[코카콜라]스프라이트 킨사이다 185ml x 90캔', '[닥터린]닥터린 초임계 알티지(rTG) 오메가3 5개월분 (7/24 파격특가+10%쿠폰+락티움 증정)', '[코카콜라]코카콜라 190ml x 60CAN', '[쁘띠비데]비데물티슈 쁘띠비데 캡형 46매x10팩', '[미니멜리사]미니멜리사 메듀즈 키즈 샌들 모음 신발 슬리퍼 모음 유아 여아 초등 학생 주니어 젤리 슈즈', '[피코크]조선호텔 포기김치 8kg(신세계푸드 중복쿠폰 할인)', '[흄]20% 흄 - 여름 최종가 세일 반바지/반팔/셔츠/데님/팬츠', '[서울우유]멸균우유 200ml x 24입 (1박스)', '산지직송 첫출하 썸머킹 아오리사과 중과 2kg(10과내외)', '[농심]올리브 짜파게티 5입X8개(40개)', '[동원에프앤비]동원 리챔 더블라이트 200g 10캔', '[정관장][정관장]활기력/20mlx16병 2박스', '[바스파]스크럽 사해소금 바디워시/클렌저 각질케어 1000ml 쿠폰가13180 (+행사중)', '[어가찬]어가찬 바다일품 장족 200g +200g 24일 단 하루만 세일중', '1+1+1 튼튼한 고급 파스텔 장우산 16살대 대형 자동 우산 방풍 방수 휴대폰링 증정', '[동아오츠카]나랑드사이다 245ml CAN 2박스 3종', '[TS티마]여름마스크 100매 TS 레모나 위가드 스카이슘 새부리형 중형 대형 KF94 쿨마스크 모음전', '[웅진]빅토리아 청귤+자몽 500ml 20+20개', '[순수크린]순수크린 과탄산소다 5kg 버킷+스푼1개외 베이킹 모음전', '[락토핏]종근당건강 유산균 락토핏 골드 50포 3통(150일분)', '[동원에프앤비]라이트스탠다드참치 85g x7캔 +고추참치 85g x 7캔', '[사미헌]부산 사미헌 갈비탕 5팩세트(1kgX5팩)', '[웅진]가야농장 토마토 1.5L x 12개입', '[조르단]부드러운 어린이칫솔 조르단 STEP 1단계 10개', '나영이네농장 맛좋은 감귤 2.5kg(S~M)-하우스 로얄과', '(할인특가/별똥별 신간) 생각의 발견 (도서10권+워크북3권) / 세이펜 미포함', '미미네 국물떡볶이 9봉 + 눈꽃치즈 국물떡볶이 1봉 (총10봉)', '[애플]한정26만대 애플 에어팟 프로 2세대 AirPods Pro2', '[웅진]빅토리아 청귤+초록매실 500ml 20+20개', '[피죤]무균무때 욕실청소 욕실용세정제 500ml 2+2 (총4개)', '홍천철원 강원도 미백 찰옥수수 20개입(17cm이상 특품)', '[널담]널담 베이글 3종 6개입 (플레인/크랜베리호두/흑임자) / 2세트시 2천원 할인', '[게스]누구나 20%+5%쿠폰 게스본사 S/S 신상이월 인기상품 할인전', '(KIT ALBUM) SHOWNU X HYUNGWON THE 1ST MINI ALBUM THE UNSEEN', '[블랙야크키즈]블랙야크키즈 역시즌 미리준비하는 특가 자켓/티셔츠/팬츠/슈즈', '[버팔로][BUFFALO] 프리미엄 블랙라벨 구명조끼', '[동원에프앤비]동원 라이트 스탠다드 참치 150g 원터치 10개', '[햇살드리(양곡)]수향미 골든퀸 수향미 10kg 단일품종 상등급', '[에그머니](에그머니) 온라인게임상품권 3만원', '[썬넛트]하루견과블루베리(50봉) (25gX50봉)', '[코카콜라]코카콜라제로 190ml x 60CAN', '[온유바이오]곡물발효효소 릴리프 3+1(총4월분) 올인원배합 100%국내산 곡물효소 식이섬유 17종 유산균 고소한 누룽지맛', '삼광쌀 만세보령 GOLD 특등급 10kg', '[블루독](대구신세계)22A75-415-01(MG)리사이클조거팬츠', '[나이키골프]나이키 남여공용볼캡 골프모자 4종 헤리티지86 레거시91', '[올반키친]올반 찰핫도그 80g X 30봉 (신세계푸드 중복쿠폰 할인)', '우리아이 반찬 짜지않은 메추리알 장조림 1kg x 2팩', '[삼성전자]새로운 갤럭시태블릿 사전알림 EVENT/ 알림신청 /100원딜(구매시자동응모)', '[지오다노]15%쿠폰 한소희의 지오다노 여름 베스트 기본템', '[한예지]한예지 볼륨앤소프트 천연펄프 화장지 30롤 3팩 (가성비갑)', '[지오다노]15%쿠폰 지오다노 SS 여름 PK티셔츠/셔츠/슬랙스 외', '[맥케인]맥케인 케이준 배터드 감자튀김 2kg+(증정)어니언링 외 모음']\n"
     ]
    }
   ],
   "source": [
    "print(title_list)"
   ]
  },
  {
   "cell_type": "markdown",
   "id": "4a3d6591",
   "metadata": {
    "id": "4a3d6591"
   },
   "source": [
    "# selenium 실행하고 상품명, 가격, 별점 정보 저장"
   ]
  },
  {
   "cell_type": "code",
   "execution_count": 12,
   "id": "0212841f",
   "metadata": {
    "id": "0212841f"
   },
   "outputs": [],
   "source": [
    "from selenium import webdriver\n",
    "from selenium.webdriver.common.by import By\n",
    "from selenium.webdriver.common.keys import Keys\n",
    "from selenium.webdriver.chrome.service import Service\n",
    "\n",
    "title_list = list()\n",
    "price_list = list()\n",
    "star_list = list()\n",
    "\n",
    "# ChromeDriver의 경로를 지정하고, WebDriver 인스턴스를 생성합니다.\n",
    "driver = webdriver.Chrome()\n",
    "\n",
    "# 지마켓의 메인 페이지를 엽니다.\n",
    "driver.get('https://www.gmarket.co.kr')\n",
    "\n",
    "# 검색어를 입력할 수 있는 input 요소를 찾습니다.\n",
    "search_box = driver.find_element(By.NAME, 'keyword')\n",
    "\n",
    "# 검색어를 입력하고, Enter 키를 눌러 검색을 실행합니다.\n",
    "search_box.send_keys('손풍기')\n",
    "search_box.send_keys(Keys.RETURN)\n",
    "\n",
    "# 결과 페이지가 로드될 때까지 잠시 기다립니다.\n",
    "driver.implicitly_wait(3)\n",
    "\n",
    "# 정보를 담은 박스를 선택합니다.\n",
    "search_results = driver.find_elements(By.CSS_SELECTOR, 'div.box__information')\n",
    "\n",
    "for result in search_results:\n",
    "    #만족도가 없을 수도 있기에 try except문을 활용\n",
    "    try:\n",
    "        title_element = result.find_element(By.CSS_SELECTOR, 'span.text__item')\n",
    "        price_element = result.find_element(By.CSS_SELECTOR, 'div.box__price-seller > strong')\n",
    "        star_element = result.find_element(By.CSS_SELECTOR, 'span.image__awards-points > span')\n",
    "        title_list.append(title_element.text)\n",
    "        price_list.append(price_element.text)\n",
    "        star_list.append(star_element.text)\n",
    "    except:\n",
    "        pass\n",
    "\n",
    "# 작업이 끝나면 WebDriver를 종료하여 브라우저 창을 닫습니다.\n",
    "driver.quit()"
   ]
  },
  {
   "cell_type": "markdown",
   "id": "d5562181",
   "metadata": {
    "id": "d5562181"
   },
   "source": [
    "# 데이터 프레임으로 저장하고 Excel 파일로 저장하기"
   ]
  },
  {
   "cell_type": "code",
   "execution_count": 13,
   "id": "6a7f288f",
   "metadata": {
    "id": "6a7f288f"
   },
   "outputs": [],
   "source": [
    "import pandas as pd\n",
    "\n",
    "gmarket_selenium_df = pd.DataFrame([title_list, price_list, star_list]).T"
   ]
  },
  {
   "cell_type": "code",
   "execution_count": 14,
   "id": "7a392265",
   "metadata": {
    "id": "7a392265"
   },
   "outputs": [],
   "source": [
    "gmarket_selenium_df.columns = ['상품명', '판매가', '만족도']"
   ]
  },
  {
   "cell_type": "code",
   "execution_count": 15,
   "id": "176e224f",
   "metadata": {
    "id": "176e224f",
    "outputId": "f7324fa9-b540-4633-db0b-bb28557db116"
   },
   "outputs": [
    {
     "data": {
      "text/html": [
       "<div>\n",
       "<style scoped>\n",
       "    .dataframe tbody tr th:only-of-type {\n",
       "        vertical-align: middle;\n",
       "    }\n",
       "\n",
       "    .dataframe tbody tr th {\n",
       "        vertical-align: top;\n",
       "    }\n",
       "\n",
       "    .dataframe thead th {\n",
       "        text-align: right;\n",
       "    }\n",
       "</style>\n",
       "<table border=\"1\" class=\"dataframe\">\n",
       "  <thead>\n",
       "    <tr style=\"text-align: right;\">\n",
       "      <th></th>\n",
       "      <th>상품명</th>\n",
       "      <th>판매가</th>\n",
       "      <th>만족도</th>\n",
       "    </tr>\n",
       "  </thead>\n",
       "  <tbody>\n",
       "    <tr>\n",
       "      <th>0</th>\n",
       "      <td>초경량 1+1 미소양품 프리미엄 소형 미니 휴대용 핸디 손 선풍기</td>\n",
       "      <td>29,900</td>\n",
       "      <td></td>\n",
       "    </tr>\n",
       "    <tr>\n",
       "      <th>1</th>\n",
       "      <td>휴대용선풍기 휴대용목걸이 미니 손선풍기 RX-8820</td>\n",
       "      <td>17,300</td>\n",
       "      <td></td>\n",
       "    </tr>\n",
       "    <tr>\n",
       "      <th>2</th>\n",
       "      <td>뉴이지팬 휴대용 미니 핸디선풍기 핑크 LED 조명기능</td>\n",
       "      <td>10,900</td>\n",
       "      <td></td>\n",
       "    </tr>\n",
       "    <tr>\n",
       "      <th>3</th>\n",
       "      <td>슈틸루스터 에어컨 선풍기 올리브 season2 ST-AF200</td>\n",
       "      <td>45,900</td>\n",
       "      <td>만족도 76% 입니다.</td>\n",
       "    </tr>\n",
       "    <tr>\n",
       "      <th>4</th>\n",
       "      <td>이지마켓 초강력미니선풍기 미니 손선풍기 에어컨손풍기 얼음이 내손안에 핸디써큘레이터</td>\n",
       "      <td>29,900</td>\n",
       "      <td>만족도 94% 입니다.</td>\n",
       "    </tr>\n",
       "    <tr>\n",
       "      <th>...</th>\n",
       "      <td>...</td>\n",
       "      <td>...</td>\n",
       "      <td>...</td>\n",
       "    </tr>\n",
       "    <tr>\n",
       "      <th>94</th>\n",
       "      <td>1+1 휴대용 집게 선풍기 6인치대형팬 BLDC 탁상용 유모차선풍기 OEF-6FAN</td>\n",
       "      <td>27,900</td>\n",
       "      <td>만족도 92% 입니다.</td>\n",
       "    </tr>\n",
       "    <tr>\n",
       "      <th>95</th>\n",
       "      <td>휴대용 넥밴드 선풍기 넥 목 목걸이 유팬 목풍기 BI-NF8 블랙</td>\n",
       "      <td>33,060</td>\n",
       "      <td>만족도 82% 입니다.</td>\n",
       "    </tr>\n",
       "    <tr>\n",
       "      <th>96</th>\n",
       "      <td>휴대용 넥밴드 선풍기 충전식 넥선풍기 A206 그린</td>\n",
       "      <td>22,500</td>\n",
       "      <td>만족도 66% 입니다.</td>\n",
       "    </tr>\n",
       "    <tr>\n",
       "      <th>97</th>\n",
       "      <td>무선 휴대용 선풍기 TS-8DF45(화이트) 미니 탁상용 1+1</td>\n",
       "      <td>46,800</td>\n",
       "      <td>만족도 94% 입니다.</td>\n",
       "    </tr>\n",
       "    <tr>\n",
       "      <th>98</th>\n",
       "      <td>엑스 포켓 넥밴드 목걸이 휴대용선풍기 SX-NF21W</td>\n",
       "      <td>24,800</td>\n",
       "      <td>만족도 100% 입니다.</td>\n",
       "    </tr>\n",
       "  </tbody>\n",
       "</table>\n",
       "<p>99 rows × 3 columns</p>\n",
       "</div>"
      ],
      "text/plain": [
       "                                               상품명     판매가            만족도\n",
       "0             초경량 1+1 미소양품 프리미엄 소형 미니 휴대용 핸디 손 선풍기  29,900               \n",
       "1                    휴대용선풍기 휴대용목걸이 미니 손선풍기 RX-8820  17,300               \n",
       "2                    뉴이지팬 휴대용 미니 핸디선풍기 핑크 LED 조명기능  10,900               \n",
       "3               슈틸루스터 에어컨 선풍기 올리브 season2 ST-AF200  45,900   만족도 76% 입니다.\n",
       "4    이지마켓 초강력미니선풍기 미니 손선풍기 에어컨손풍기 얼음이 내손안에 핸디써큘레이터  29,900   만족도 94% 입니다.\n",
       "..                                             ...     ...            ...\n",
       "94  1+1 휴대용 집게 선풍기 6인치대형팬 BLDC 탁상용 유모차선풍기 OEF-6FAN  27,900   만족도 92% 입니다.\n",
       "95            휴대용 넥밴드 선풍기 넥 목 목걸이 유팬 목풍기 BI-NF8 블랙  33,060   만족도 82% 입니다.\n",
       "96                    휴대용 넥밴드 선풍기 충전식 넥선풍기 A206 그린  22,500   만족도 66% 입니다.\n",
       "97             무선 휴대용 선풍기 TS-8DF45(화이트) 미니 탁상용 1+1  46,800   만족도 94% 입니다.\n",
       "98                   엑스 포켓 넥밴드 목걸이 휴대용선풍기 SX-NF21W  24,800  만족도 100% 입니다.\n",
       "\n",
       "[99 rows x 3 columns]"
      ]
     },
     "execution_count": 15,
     "metadata": {},
     "output_type": "execute_result"
    }
   ],
   "source": [
    "gmarket_selenium_df"
   ]
  },
  {
   "cell_type": "code",
   "execution_count": 16,
   "id": "ec181364",
   "metadata": {
    "id": "ec181364"
   },
   "outputs": [],
   "source": [
    "def extract_comma(x):\n",
    "    price = int(x.replace(\",\", \"\")) #replace로 쉼표까지 제거하고 int로 변환\n",
    "    return price"
   ]
  },
  {
   "cell_type": "code",
   "execution_count": 17,
   "id": "9b7d9fb6",
   "metadata": {
    "id": "9b7d9fb6"
   },
   "outputs": [],
   "source": [
    "gmarket_selenium_df['판매가'] = gmarket_selenium_df['판매가'].apply(extract_comma)"
   ]
  },
  {
   "cell_type": "code",
   "execution_count": 18,
   "id": "9164b40b",
   "metadata": {
    "id": "9164b40b"
   },
   "outputs": [],
   "source": [
    "import re\n",
    "\n",
    "def extract_stars(x):\n",
    "    ext = re.findall(\"\\d+%\", x)\n",
    "    #데이터가 빈 경우가 있으므로 try, except문 사용\n",
    "    try:\n",
    "        stars = int(ext[0].replace('%', \"\")) #%를 제거한 뒤 int로 변환\n",
    "    except:\n",
    "        pass\n",
    "    return stars if ext else None #데이터가 있을 경우 stars를 반환, 아닐 경우 None을 반환"
   ]
  },
  {
   "cell_type": "code",
   "execution_count": 19,
   "id": "230d91f7",
   "metadata": {
    "id": "230d91f7"
   },
   "outputs": [],
   "source": [
    "gmarket_selenium_df['만족도'] = gmarket_selenium_df['만족도'].apply(extract_stars)"
   ]
  },
  {
   "cell_type": "code",
   "execution_count": 20,
   "id": "a25fd9f2",
   "metadata": {
    "id": "a25fd9f2"
   },
   "outputs": [],
   "source": [
    "gmarket_selenium_df = gmarket_selenium_df.dropna().reset_index().iloc[:, 1:]"
   ]
  },
  {
   "cell_type": "code",
   "execution_count": 21,
   "id": "7c58aa80",
   "metadata": {
    "id": "7c58aa80"
   },
   "outputs": [],
   "source": [
    "gmarket_selenium_df.to_excel('gmarket_handfan_stars.xlsx')"
   ]
  },
  {
   "cell_type": "markdown",
   "id": "991f806a",
   "metadata": {
    "id": "991f806a"
   },
   "source": [
    "# 과제 (100점)"
   ]
  },
  {
   "cell_type": "markdown",
   "id": "f2f4a5c1",
   "metadata": {
    "id": "f2f4a5c1"
   },
   "source": [
    "#### 본인이 관심 있는 키워드에 대해서 해당 크롤링을 반복해서 수행하시오. 데이터를 수집하여 excel 파일로 저장하시오."
   ]
  },
  {
   "cell_type": "code",
   "execution_count": 22,
   "id": "33c4a281",
   "metadata": {
    "id": "33c4a281"
   },
   "outputs": [],
   "source": [
    "#1. 필요한 라이브러리 import 하기 (10점)\n",
    "!pip install selenium\n",
    "\n",
    "import re\n",
    "import pandas as pd\n",
    "from selenium import webdriver\n",
    "from selenium.webdriver.common.by import By\n",
    "from selenium.webdriver.common.keys import Keys\n",
    "from selenium.webdriver.chrome.service import Service"
   ]
  },
  {
   "cell_type": "code",
   "execution_count": 23,
   "id": "895a50b8",
   "metadata": {
    "id": "895a50b8"
   },
   "outputs": [],
   "source": [
    "#2. 본인이 관심 있는 키워드에 대해서 크롤링을 수행하고 상품명, 가격, 별점 정보 저장하기 (40점)\n",
    "\n",
    "title_list = list()\n",
    "price_list = list()\n",
    "star_list = list()\n",
    "\n",
    "driver = webdriver.Chrome()\n",
    "\n",
    "driver.get('https://www.gmarket.co.kr')\n",
    "\n",
    "search_box = driver.find_element(By.NAME, 'keyword')\n",
    "\n",
    "search_box.send_keys('케이스')\n",
    "search_box.send_keys(Keys.RETURN)\n",
    "\n",
    "driver.implicitly_wait(3)\n",
    "\n",
    "search_results = driver.find_elements(By.CSS_SELECTOR, 'div.box__information')\n",
    "\n",
    "for result in search_results:\n",
    "    try:\n",
    "        title_element = result.find_element(By.CSS_SELECTOR, 'span.text__item')\n",
    "        price_element = result.find_element(By.CSS_SELECTOR, 'div.box__price-seller > strong')\n",
    "        star_element = result.find_element(By.CSS_SELECTOR, 'span.image__awards-points > span')\n",
    "        title_list.append(title_element.text)\n",
    "        price_list.append(price_element.text)\n",
    "        star_list.append(star_element.text)\n",
    "    except:\n",
    "        pass\n",
    "\n",
    "driver.quit()"
   ]
  },
  {
   "cell_type": "code",
   "execution_count": 24,
   "id": "99c586a5",
   "metadata": {
    "id": "99c586a5"
   },
   "outputs": [],
   "source": [
    "#3. 적절히 데이터 전처리를 하여 DataFrame 객체로 만들고 Excel 파일로 저장하기 (50점)\n",
    "#이때, DataFrame의 열은 \"상품명, 판매가, 만족도\"로 구성되어야 함.\n",
    "\n",
    "\n",
    "gmarket_selenium_df = pd.DataFrame([title_list, price_list, star_list]).T\n",
    "gmarket_selenium_df.columns = ['상품명', '판매가', '만족도']\n",
    "gmarket_selenium_df\n",
    "\n",
    "def extract_comma(x):\n",
    "    price = int(x.replace(\",\", \"\")) #replace로 쉼표까지 제거하고 int로 변환\n",
    "    return price\n",
    "\n",
    "gmarket_selenium_df['판매가'] = gmarket_selenium_df['판매가'].apply(extract_comma)\n",
    "\n",
    "def extract_stars(x):\n",
    "    ext = re.findall(\"\\d+%\", x)\n",
    "    try:\n",
    "        stars = int(ext[0].replace('%', \"\"))\n",
    "    except:\n",
    "        pass\n",
    "    return stars if ext else None\n",
    "\n",
    "gmarket_selenium_df['만족도'] = gmarket_selenium_df['만족도'].apply(extract_stars)\n",
    "gmarket_selenium_df = gmarket_selenium_df.dropna().reset_index().iloc[:, 1:]\n",
    "gmarket_selenium_df.to_excel('gmarket_case_stars.xlsx')"
   ]
  }
 ],
 "metadata": {
  "colab": {
   "provenance": []
  },
  "kernelspec": {
   "display_name": "Python 3 (ipykernel)",
   "language": "python",
   "name": "python3"
  },
  "language_info": {
   "codemirror_mode": {
    "name": "ipython",
    "version": 3
   },
   "file_extension": ".py",
   "mimetype": "text/x-python",
   "name": "python",
   "nbconvert_exporter": "python",
   "pygments_lexer": "ipython3",
   "version": "3.10.9"
  }
 },
 "nbformat": 4,
 "nbformat_minor": 5
}
